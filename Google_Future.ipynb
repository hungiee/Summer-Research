{
 "cells": [
  {
   "cell_type": "code",
   "execution_count": 218,
   "metadata": {},
   "outputs": [],
   "source": [
    "import re\n",
    "import numpy as np\n",
    "from matplotlib import pyplot as plt\n",
    "import pandas as pd\n",
    "from sklearn.preprocessing import MinMaxScaler\n",
    "import tensorflow as tf\n",
    "from tensorflow.keras import Sequential\n",
    "from keras.layers import LSTM\n",
    "from keras.layers import Dropout\n",
    "from keras.layers import Dense\n",
    "from sklearn.preprocessing import StandardScaler\n",
    "from sklearn.metrics import mean_absolute_error\n",
    "from sklearn.metrics import mean_squared_error"
   ]
  },
  {
   "cell_type": "code",
   "execution_count": 219,
   "metadata": {},
   "outputs": [
    {
     "data": {
      "text/html": [
       "<div>\n",
       "<style scoped>\n",
       "    .dataframe tbody tr th:only-of-type {\n",
       "        vertical-align: middle;\n",
       "    }\n",
       "\n",
       "    .dataframe tbody tr th {\n",
       "        vertical-align: top;\n",
       "    }\n",
       "\n",
       "    .dataframe thead th {\n",
       "        text-align: right;\n",
       "    }\n",
       "</style>\n",
       "<table border=\"1\" class=\"dataframe\">\n",
       "  <thead>\n",
       "    <tr style=\"text-align: right;\">\n",
       "      <th></th>\n",
       "      <th>volume</th>\n",
       "      <th>open</th>\n",
       "      <th>close</th>\n",
       "      <th>high</th>\n",
       "      <th>low</th>\n",
       "      <th>date</th>\n",
       "    </tr>\n",
       "  </thead>\n",
       "  <tbody>\n",
       "    <tr>\n",
       "      <th>1257</th>\n",
       "      <td>1663302.0</td>\n",
       "      <td>930.985</td>\n",
       "      <td>940.810</td>\n",
       "      <td>944.660</td>\n",
       "      <td>929.7900</td>\n",
       "      <td>2017-07-07 04:00:00</td>\n",
       "    </tr>\n",
       "    <tr>\n",
       "      <th>1256</th>\n",
       "      <td>1451460.0</td>\n",
       "      <td>941.950</td>\n",
       "      <td>951.000</td>\n",
       "      <td>953.130</td>\n",
       "      <td>941.9500</td>\n",
       "      <td>2017-07-10 04:00:00</td>\n",
       "    </tr>\n",
       "    <tr>\n",
       "      <th>1255</th>\n",
       "      <td>1461247.0</td>\n",
       "      <td>950.520</td>\n",
       "      <td>953.530</td>\n",
       "      <td>954.890</td>\n",
       "      <td>945.1200</td>\n",
       "      <td>2017-07-11 04:00:00</td>\n",
       "    </tr>\n",
       "    <tr>\n",
       "      <th>1254</th>\n",
       "      <td>1602115.0</td>\n",
       "      <td>960.860</td>\n",
       "      <td>967.660</td>\n",
       "      <td>969.630</td>\n",
       "      <td>957.0400</td>\n",
       "      <td>2017-07-12 04:00:00</td>\n",
       "    </tr>\n",
       "    <tr>\n",
       "      <th>1253</th>\n",
       "      <td>1524571.0</td>\n",
       "      <td>970.800</td>\n",
       "      <td>968.850</td>\n",
       "      <td>978.700</td>\n",
       "      <td>964.8000</td>\n",
       "      <td>2017-07-13 04:00:00</td>\n",
       "    </tr>\n",
       "    <tr>\n",
       "      <th>...</th>\n",
       "      <td>...</td>\n",
       "      <td>...</td>\n",
       "      <td>...</td>\n",
       "      <td>...</td>\n",
       "      <td>...</td>\n",
       "      <td>...</td>\n",
       "    </tr>\n",
       "    <tr>\n",
       "      <th>4</th>\n",
       "      <td>1235841.0</td>\n",
       "      <td>2231.040</td>\n",
       "      <td>2234.030</td>\n",
       "      <td>2263.205</td>\n",
       "      <td>2217.4501</td>\n",
       "      <td>2022-06-29 04:00:00</td>\n",
       "    </tr>\n",
       "    <tr>\n",
       "      <th>3</th>\n",
       "      <td>2158453.0</td>\n",
       "      <td>2200.000</td>\n",
       "      <td>2179.260</td>\n",
       "      <td>2217.760</td>\n",
       "      <td>2135.0000</td>\n",
       "      <td>2022-06-30 04:00:00</td>\n",
       "    </tr>\n",
       "    <tr>\n",
       "      <th>2</th>\n",
       "      <td>1773783.0</td>\n",
       "      <td>2158.660</td>\n",
       "      <td>2174.750</td>\n",
       "      <td>2185.000</td>\n",
       "      <td>2134.6100</td>\n",
       "      <td>2022-07-01 04:00:00</td>\n",
       "    </tr>\n",
       "    <tr>\n",
       "      <th>1</th>\n",
       "      <td>1970154.0</td>\n",
       "      <td>2142.010</td>\n",
       "      <td>2265.260</td>\n",
       "      <td>2267.535</td>\n",
       "      <td>2114.6300</td>\n",
       "      <td>2022-07-05 04:00:00</td>\n",
       "    </tr>\n",
       "    <tr>\n",
       "      <th>0</th>\n",
       "      <td>1249206.0</td>\n",
       "      <td>2266.040</td>\n",
       "      <td>2297.594</td>\n",
       "      <td>2298.000</td>\n",
       "      <td>2229.5200</td>\n",
       "      <td>2022-07-06 04:00:00</td>\n",
       "    </tr>\n",
       "  </tbody>\n",
       "</table>\n",
       "<p>1258 rows × 6 columns</p>\n",
       "</div>"
      ],
      "text/plain": [
       "         volume      open     close      high        low                 date\n",
       "1257  1663302.0   930.985   940.810   944.660   929.7900  2017-07-07 04:00:00\n",
       "1256  1451460.0   941.950   951.000   953.130   941.9500  2017-07-10 04:00:00\n",
       "1255  1461247.0   950.520   953.530   954.890   945.1200  2017-07-11 04:00:00\n",
       "1254  1602115.0   960.860   967.660   969.630   957.0400  2017-07-12 04:00:00\n",
       "1253  1524571.0   970.800   968.850   978.700   964.8000  2017-07-13 04:00:00\n",
       "...         ...       ...       ...       ...        ...                  ...\n",
       "4     1235841.0  2231.040  2234.030  2263.205  2217.4501  2022-06-29 04:00:00\n",
       "3     2158453.0  2200.000  2179.260  2217.760  2135.0000  2022-06-30 04:00:00\n",
       "2     1773783.0  2158.660  2174.750  2185.000  2134.6100  2022-07-01 04:00:00\n",
       "1     1970154.0  2142.010  2265.260  2267.535  2114.6300  2022-07-05 04:00:00\n",
       "0     1249206.0  2266.040  2297.594  2298.000  2229.5200  2022-07-06 04:00:00\n",
       "\n",
       "[1258 rows x 6 columns]"
      ]
     },
     "execution_count": 219,
     "metadata": {},
     "output_type": "execute_result"
    }
   ],
   "source": [
    "df = pd.read_csv(\"GOOGL_day.csv\")\n",
    "df = df.iloc[::-1]\n",
    "del df['Unnamed: 0']\n",
    "df"
   ]
  },
  {
   "cell_type": "code",
   "execution_count": 220,
   "metadata": {},
   "outputs": [],
   "source": [
    "scaler = MinMaxScaler(feature_range=(0, 1))\n",
    "y = df['close']\n",
    "y = y.values.reshape(-1,1)\n",
    "scaler = scaler.fit(y)\n",
    "y = scaler.transform(y)"
   ]
  },
  {
   "cell_type": "code",
   "execution_count": 221,
   "metadata": {},
   "outputs": [],
   "source": [
    "n_lookback = 60  # length of input sequences (lookback period)\n",
    "n_forecast = 30  # length of output sequences (forecast period)\n",
    "\n",
    "def generate_XY():\n",
    "    \"\"\"\n",
    "    This function will generate X,Y as X train and Y train\n",
    "    Will be modified to be updated regularly\n",
    "    \"\"\"\n",
    "    X = []\n",
    "    Y = []\n",
    "\n",
    "    for i in range(n_lookback, (len(y)) - n_forecast + 1):\n",
    "        X.append(y[i - n_lookback: i])\n",
    "        Y.append(y[i: i + n_forecast])\n",
    "\n",
    "    X = np.array(X)\n",
    "    Y = np.array(Y)\n",
    "    return X,Y"
   ]
  },
  {
   "cell_type": "code",
   "execution_count": 222,
   "metadata": {},
   "outputs": [
    {
     "name": "stdout",
     "output_type": "stream",
     "text": [
      "Epoch 1/5\n",
      "37/37 [==============================] - 3s 29ms/step - loss: 0.1658\n",
      "Epoch 2/5\n",
      "37/37 [==============================] - 1s 30ms/step - loss: 0.0560\n",
      "Epoch 3/5\n",
      "37/37 [==============================] - 1s 31ms/step - loss: 0.0117\n",
      "Epoch 4/5\n",
      "37/37 [==============================] - 1s 32ms/step - loss: 0.0050\n",
      "Epoch 5/5\n",
      "37/37 [==============================] - 1s 32ms/step - loss: 0.0044\n"
     ]
    }
   ],
   "source": [
    "\n",
    "def first_train(X,Y):\n",
    "    \n",
    "    model = Sequential()\n",
    "    model.add(LSTM(units=30,return_sequences=True,input_shape=(n_lookback, 1), activation = 'relu'))\n",
    "    model.add(LSTM(units=30, return_sequences= True, activation = 'relu'))\n",
    "    model.add(LSTM(units=30,return_sequences=True, activation = 'relu'))\n",
    "    model.add(LSTM(units=30, activation = 'relu'))\n",
    "    model.add(Dense(n_forecast))\n",
    "    model.compile(optimizer='adam',loss='mean_squared_error')\n",
    "    model.fit(X, Y,epochs=5,batch_size=32)\n",
    "    model.save('future.h5')\n",
    "\n",
    "def re_train(newX, newY):\n",
    "    model1 = tf.keras.models.load_model('future.h5')\n",
    "    model = Sequential([model1])\n",
    "    model.compile(optimizer='adam',loss='mean_squared_error')\n",
    "    model.fit(newX, newY, epochs = 5, batch_size=32)\n",
    "\n",
    "X,Y = generate_XY()\n",
    "first_train(X,Y)"
   ]
  },
  {
   "cell_type": "code",
   "execution_count": 223,
   "metadata": {},
   "outputs": [
    {
     "name": "stdout",
     "output_type": "stream",
     "text": [
      "1/1 [==============================] - 0s 228ms/step\n"
     ]
    }
   ],
   "source": [
    "# generate the forecasts\n",
    "model = tf.keras.models.load_model('future.h5')\n",
    "\n",
    "X_ = y[-n_lookback:]  # last available input sequence\n",
    "X_ = X_.reshape(1, n_lookback, 1)\n",
    "\n",
    "Y_ = model.predict(X_).reshape(-1, 1)\n",
    "Y_ = scaler.inverse_transform(Y_)\n"
   ]
  },
  {
   "cell_type": "code",
   "execution_count": 224,
   "metadata": {},
   "outputs": [
    {
     "name": "stderr",
     "output_type": "stream",
     "text": [
      "/var/folders/x5/l8x4kr756xq3xt39yzgv1_b80000gn/T/ipykernel_21599/2978314863.py:2: SettingWithCopyWarning: \n",
      "A value is trying to be set on a copy of a slice from a DataFrame.\n",
      "Try using .loc[row_indexer,col_indexer] = value instead\n",
      "\n",
      "See the caveats in the documentation: https://pandas.pydata.org/pandas-docs/stable/user_guide/indexing.html#returning-a-view-versus-a-copy\n",
      "  df_past['date'] = pd.to_datetime(df['date'])\n",
      "/var/folders/x5/l8x4kr756xq3xt39yzgv1_b80000gn/T/ipykernel_21599/2978314863.py:3: SettingWithCopyWarning: \n",
      "A value is trying to be set on a copy of a slice from a DataFrame.\n",
      "Try using .loc[row_indexer,col_indexer] = value instead\n",
      "\n",
      "See the caveats in the documentation: https://pandas.pydata.org/pandas-docs/stable/user_guide/indexing.html#returning-a-view-versus-a-copy\n",
      "  df_past['forecast'] = np.nan\n"
     ]
    },
    {
     "data": {
      "text/html": [
       "<div>\n",
       "<style scoped>\n",
       "    .dataframe tbody tr th:only-of-type {\n",
       "        vertical-align: middle;\n",
       "    }\n",
       "\n",
       "    .dataframe tbody tr th {\n",
       "        vertical-align: top;\n",
       "    }\n",
       "\n",
       "    .dataframe thead th {\n",
       "        text-align: right;\n",
       "    }\n",
       "</style>\n",
       "<table border=\"1\" class=\"dataframe\">\n",
       "  <thead>\n",
       "    <tr style=\"text-align: right;\">\n",
       "      <th></th>\n",
       "      <th>close</th>\n",
       "      <th>date</th>\n",
       "      <th>forecast</th>\n",
       "    </tr>\n",
       "  </thead>\n",
       "  <tbody>\n",
       "    <tr>\n",
       "      <th>1257</th>\n",
       "      <td>940.810</td>\n",
       "      <td>2017-07-07 04:00:00</td>\n",
       "      <td>NaN</td>\n",
       "    </tr>\n",
       "    <tr>\n",
       "      <th>1256</th>\n",
       "      <td>951.000</td>\n",
       "      <td>2017-07-10 04:00:00</td>\n",
       "      <td>NaN</td>\n",
       "    </tr>\n",
       "    <tr>\n",
       "      <th>1255</th>\n",
       "      <td>953.530</td>\n",
       "      <td>2017-07-11 04:00:00</td>\n",
       "      <td>NaN</td>\n",
       "    </tr>\n",
       "    <tr>\n",
       "      <th>1254</th>\n",
       "      <td>967.660</td>\n",
       "      <td>2017-07-12 04:00:00</td>\n",
       "      <td>NaN</td>\n",
       "    </tr>\n",
       "    <tr>\n",
       "      <th>1253</th>\n",
       "      <td>968.850</td>\n",
       "      <td>2017-07-13 04:00:00</td>\n",
       "      <td>NaN</td>\n",
       "    </tr>\n",
       "    <tr>\n",
       "      <th>...</th>\n",
       "      <td>...</td>\n",
       "      <td>...</td>\n",
       "      <td>...</td>\n",
       "    </tr>\n",
       "    <tr>\n",
       "      <th>4</th>\n",
       "      <td>2234.030</td>\n",
       "      <td>2022-06-29 04:00:00</td>\n",
       "      <td>NaN</td>\n",
       "    </tr>\n",
       "    <tr>\n",
       "      <th>3</th>\n",
       "      <td>2179.260</td>\n",
       "      <td>2022-06-30 04:00:00</td>\n",
       "      <td>NaN</td>\n",
       "    </tr>\n",
       "    <tr>\n",
       "      <th>2</th>\n",
       "      <td>2174.750</td>\n",
       "      <td>2022-07-01 04:00:00</td>\n",
       "      <td>NaN</td>\n",
       "    </tr>\n",
       "    <tr>\n",
       "      <th>1</th>\n",
       "      <td>2265.260</td>\n",
       "      <td>2022-07-05 04:00:00</td>\n",
       "      <td>NaN</td>\n",
       "    </tr>\n",
       "    <tr>\n",
       "      <th>0</th>\n",
       "      <td>2297.594</td>\n",
       "      <td>2022-07-06 04:00:00</td>\n",
       "      <td>NaN</td>\n",
       "    </tr>\n",
       "  </tbody>\n",
       "</table>\n",
       "<p>1258 rows × 3 columns</p>\n",
       "</div>"
      ],
      "text/plain": [
       "         close                date  forecast\n",
       "1257   940.810 2017-07-07 04:00:00       NaN\n",
       "1256   951.000 2017-07-10 04:00:00       NaN\n",
       "1255   953.530 2017-07-11 04:00:00       NaN\n",
       "1254   967.660 2017-07-12 04:00:00       NaN\n",
       "1253   968.850 2017-07-13 04:00:00       NaN\n",
       "...        ...                 ...       ...\n",
       "4     2234.030 2022-06-29 04:00:00       NaN\n",
       "3     2179.260 2022-06-30 04:00:00       NaN\n",
       "2     2174.750 2022-07-01 04:00:00       NaN\n",
       "1     2265.260 2022-07-05 04:00:00       NaN\n",
       "0     2297.594 2022-07-06 04:00:00       NaN\n",
       "\n",
       "[1258 rows x 3 columns]"
      ]
     },
     "execution_count": 224,
     "metadata": {},
     "output_type": "execute_result"
    }
   ],
   "source": [
    "df_past = df[['close']]\n",
    "df_past['date'] = pd.to_datetime(df['date'])\n",
    "df_past['forecast'] = np.nan\n",
    "df_past"
   ]
  },
  {
   "cell_type": "code",
   "execution_count": 225,
   "metadata": {},
   "outputs": [
    {
     "name": "stderr",
     "output_type": "stream",
     "text": [
      "/var/folders/x5/l8x4kr756xq3xt39yzgv1_b80000gn/T/ipykernel_21599/47147154.py:4: FutureWarning: The frame.append method is deprecated and will be removed from pandas in a future version. Use pandas.concat instead.\n",
      "  results = df_past.append(df_future).set_index('date')\n"
     ]
    },
    {
     "data": {
      "text/plain": [
       "[<matplotlib.lines.Line2D at 0x327a93fd0>,\n",
       " <matplotlib.lines.Line2D at 0x327aacee0>]"
      ]
     },
     "execution_count": 225,
     "metadata": {},
     "output_type": "execute_result"
    },
    {
     "data": {
      "image/png": "[encoded data removed]",
      "text/plain": [
       "<Figure size 1152x432 with 1 Axes>"
      ]
     },
     "metadata": {
      "needs_background": "light"
     },
     "output_type": "display_data"
    }
   ],
   "source": [
    "df_future = pd.DataFrame(columns=['close', 'date', 'forecast'])\n",
    "df_future['date'] = pd.date_range(start=df_past['date'].iloc[-1] + pd.Timedelta(days=1), periods=n_forecast)\n",
    "df_future['forecast'] = Y_.flatten()\n",
    "results = df_past.append(df_future).set_index('date')\n",
    "\n",
    "plt.figure(figsize=(16,6))\n",
    "plt.title('30 days predictions')\n",
    "plt.plot(results)\n",
    "# plt.savefig('real1.png', dpi = 300, bbox_inches = 'tight')"
   ]
  },
  {
   "cell_type": "code",
   "execution_count": 228,
   "metadata": {},
   "outputs": [
    {
     "data": {
      "text/plain": [
       "<AxesSubplot:xlabel='date'>"
      ]
     },
     "execution_count": 228,
     "metadata": {},
     "output_type": "execute_result"
    },
    {
     "data": {
      "image/png": "[encoded data removed]",
      "text/plain": [
       "<Figure size 432x288 with 1 Axes>"
      ]
     },
     "metadata": {
      "needs_background": "light"
     },
     "output_type": "display_data"
    }
   ],
   "source": [
    "future = df_future.set_index('date')\n",
    "future.plot()\n",
    "# plt.savefig('forecast1.png', dpi = 300, bbox_inches = 'tight')"
   ]
  }
 ],
 "metadata": {
  "kernelspec": {
   "display_name": "Python 3.10.5 64-bit",
   "language": "python",
   "name": "python3"
  },
  "language_info": {
   "codemirror_mode": {
    "name": "ipython",
    "version": 3
   },
   "file_extension": ".py",
   "mimetype": "text/x-python",
   "name": "python",
   "nbconvert_exporter": "python",
   "pygments_lexer": "ipython3",
   "version": "3.10.5"
  },
  "orig_nbformat": 4,
  "vscode": {
   "interpreter": {
    "hash": "aee8b7b246df8f9039afb4144a1f6fd8d2ca17a180786b69acc140d282b71a49"
   }
  }
 },
 "nbformat": 4,
 "nbformat_minor": 2
}
