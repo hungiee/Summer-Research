{
 "cells": [
  {
   "cell_type": "code",
   "execution_count": 7,
   "metadata": {},
   "outputs": [],
   "source": [
    "import re\n",
    "import numpy as np\n",
    "from matplotlib import pyplot as plt\n",
    "import pandas as pd\n",
    "from sklearn.preprocessing import MinMaxScaler\n",
    "import tensorflow as tf\n",
    "from tensorflow.keras import Sequential\n",
    "from keras.layers import LSTM\n",
    "from keras.layers import Dropout\n",
    "from keras.layers import Dense\n",
    "from sklearn.preprocessing import StandardScaler\n",
    "from sklearn.metrics import mean_absolute_error\n",
    "from sklearn.metrics import mean_squared_error"
   ]
  },
  {
   "cell_type": "code",
   "execution_count": 8,
   "metadata": {},
   "outputs": [],
   "source": [
    "def get_stockDF(name):\n",
    "    \"\"\"\n",
    "    For real-time, only need to modify this function to get real-time dataframe\n",
    "    \"\"\"\n",
    "    df = pd.read_csv(name)\n",
    "    df = df.iloc[::-1]\n",
    "    del df['Unnamed: 0']\n",
    "    return df\n",
    "df = get_stockDF(\"GOOGL_day.csv\")"
   ]
  },
  {
   "cell_type": "code",
   "execution_count": 9,
   "metadata": {},
   "outputs": [],
   "source": [
    "def preprocess(df):\n",
    "    scaler = MinMaxScaler(feature_range=(0, 1))\n",
    "    y = df['close']\n",
    "    y = y.values.reshape(-1,1)\n",
    "    scaler = scaler.fit(y)\n",
    "    y = scaler.transform(y)\n",
    "    return y, scaler\n",
    "    \n",
    "stock, scaler = preprocess(df)"
   ]
  },
  {
   "cell_type": "code",
   "execution_count": 10,
   "metadata": {},
   "outputs": [],
   "source": [
    "n_lookback = 60  # length of input sequences (lookback period)\n",
    "n_forecast = 30  # length of output sequences (forecast period)\n",
    "\n",
    "def generate_XY(stock):\n",
    "    \"\"\"\n",
    "    This function will generate X,Y as X train and Y train\n",
    "    Will be modified to be updated regularly\n",
    "    \"\"\"\n",
    "    X = []\n",
    "    Y = []\n",
    "\n",
    "    for i in range(n_lookback, (len(stock)) - n_forecast + 1):\n",
    "        X.append(stock[i - n_lookback: i])\n",
    "        Y.append(stock[i: i + n_forecast])\n",
    "\n",
    "    X = np.array(X)\n",
    "    Y = np.array(Y)\n",
    "    return X,Y\n",
    "\n",
    "def train_test_split():\n",
    "    from sklearn.model_selection import train_test_split\n",
    "    X,Y = generate_XY(stock)\n",
    "    trainX, testX, trainY, testY = train_test_split(X, Y, test_size = 0.025, random_state = 0)\n",
    "    return trainX, testX, trainY, testY\n"
   ]
  },
  {
   "cell_type": "code",
   "execution_count": 11,
   "metadata": {},
   "outputs": [],
   "source": [
    "def get_newStockDF():\n",
    "    return None"
   ]
  },
  {
   "cell_type": "code",
   "execution_count": 12,
   "metadata": {},
   "outputs": [
    {
     "name": "stdout",
     "output_type": "stream",
     "text": [
      "Epoch 1/5\n"
     ]
    },
    {
     "name": "stderr",
     "output_type": "stream",
     "text": [
      "2022-07-19 15:15:21.673527: W tensorflow/core/platform/profile_utils/cpu_utils.cc:128] Failed to get CPU frequency: 0 Hz\n"
     ]
    },
    {
     "name": "stdout",
     "output_type": "stream",
     "text": [
      "36/36 [==============================] - 3s 38ms/step - loss: 0.1540\n",
      "Epoch 2/5\n",
      "36/36 [==============================] - 1s 38ms/step - loss: 0.0369\n",
      "Epoch 3/5\n",
      "36/36 [==============================] - 1s 41ms/step - loss: 0.0088\n",
      "Epoch 4/5\n",
      "36/36 [==============================] - 1s 41ms/step - loss: 0.0049\n",
      "Epoch 5/5\n",
      "36/36 [==============================] - 1s 41ms/step - loss: 0.0044\n"
     ]
    }
   ],
   "source": [
    "\n",
    "def train(X,Y):\n",
    "    \"\"\"\n",
    "    Train model\n",
    "    \"\"\"\n",
    "    np.random.seed(1234)\n",
    "    tf.random.set_seed(1234)\n",
    "    model = Sequential()\n",
    "    model.add(LSTM(units=50,return_sequences=True,input_shape=(n_lookback, 1), activation = 'relu'))\n",
    "    model.add(LSTM(units=50, return_sequences= True, activation = 'relu'))\n",
    "    model.add(LSTM(units=30,return_sequences=True, activation = 'relu'))\n",
    "    model.add(LSTM(units=50, activation = 'relu'))\n",
    "    model.add(Dense(n_forecast))\n",
    "    model.compile(optimizer='adam',loss='mean_squared_error')\n",
    "    model.fit(X, Y,epochs=5,batch_size=32)\n",
    "    model.save('traintest.h5')\n",
    "\n",
    "def eval_train(trainX, trainY):\n",
    "    model = tf.keras.models.load_model('traintest.h5')\n",
    "    model.evaluate(trainX, trainY, batch_size = 32)\n",
    "    trainPredict = model.predict(trainX)\n",
    "    testPredict = model.predict(testX)\n",
    "    # invert predictions\n",
    "    trainPredict = scaler.inverse_transform(trainPredict)\n",
    "    testPredict = scaler.inverse_transform(testPredict)\n",
    "\n",
    "def eval_test(testX, testY):\n",
    "    model = tf.keras.models.load_model('traintest.h5')\n",
    "    model.evaluate(testX, testY, batch_size = 32)\n",
    "\n",
    "def run(stock):\n",
    "    \"\"\"\n",
    "    Run the training algorithm on the historical data\n",
    "    \"\"\"\n",
    "    trainX, testX, trainY, testY = train_test_split()\n",
    "    train(trainX, trainY)\n",
    "\n",
    "run(stock)"
   ]
  },
  {
   "cell_type": "code",
   "execution_count": 13,
   "metadata": {},
   "outputs": [],
   "source": [
    "# trainX, trainY, testX, testY = train_test_split()\n",
    "# eval_train(trainX, trainY)"
   ]
  },
  {
   "cell_type": "code",
   "execution_count": 14,
   "metadata": {},
   "outputs": [],
   "source": [
    "# eval_test(testX, testY)"
   ]
  },
  {
   "cell_type": "code",
   "execution_count": 15,
   "metadata": {},
   "outputs": [],
   "source": [
    "def gen_forecasts(stock):\n",
    "    \"\"\"\n",
    "    Generate forecasts from the updated model\n",
    "    @stock: preprocessed stock variable\n",
    "    @return: Y_ the forecast prices for the next 30 days\n",
    "    \"\"\"\n",
    "\n",
    "    model = tf.keras.models.load_model('traintest.h5')\n",
    "\n",
    "    X_ = stock[-n_lookback:]  # last available input sequence\n",
    "    X_ = X_.reshape(1, n_lookback, 1)\n",
    "\n",
    "    Y_ = model.predict(X_).reshape(-1, 1)\n",
    "    Y_ = scaler.inverse_transform(Y_)\n",
    "\n",
    "    return Y_"
   ]
  },
  {
   "cell_type": "code",
   "execution_count": 20,
   "metadata": {},
   "outputs": [
    {
     "name": "stdout",
     "output_type": "stream",
     "text": [
      "1/1 [==============================] - 0s 262ms/step\n",
      "900\n"
     ]
    }
   ],
   "source": [
    "trainX, testX, trainY, testY = train_test_split()\n",
    "testPredict = gen_forecasts(stock)\n",
    "testPredict = testPredict.flatten()\n",
    "testY = testY.flatten()\n",
    "testY = testY.reshape(-1,1)\n",
    "\n",
    "\n",
    "testY = scaler.inverse_transform(testY)\n",
    "# print(testY)\n",
    "testPredict = testPredict.reshape(-1,1)\n",
    "\n",
    "print(len(testY))\n",
    "# print('Test Root Mean Squared Error:',np.sqrt(mean_squared_error(testY, testPredict)))\n"
   ]
  },
  {
   "cell_type": "code",
   "execution_count": null,
   "metadata": {},
   "outputs": [],
   "source": [
    "# \"\"\"Data frame of the forecasts\n",
    "# #Append two of them to the variable results\n",
    "# Plot both\n",
    "# \"\"\"\n",
    "# def gen_dfPast(df):\n",
    "#     df_past = df[['close']]\n",
    "#     df_past['date'] = pd.to_datetime(df['date'])\n",
    "#     df_past['forecast'] = np.nan\n",
    "#     return df_past\n",
    "# def gen_dfFuture(df_past, forecast):\n",
    "#     df_future = pd.DataFrame(columns=['close', 'date', 'forecast'])\n",
    "#     df_future['date'] = pd.date_range(start=df_past['date'].iloc[-1] + pd.Timedelta(minutes=1), periods=n_forecast)\n",
    "#     df_future['forecast'] = forecast.flatten()\n",
    "#     results = df_past.append(df_future).set_index('date')\n",
    "#     return results, df_future\n",
    "\n",
    "# def plot_pred(results):\n",
    "#     plt.figure(figsize=(16,6))\n",
    "#     plt.title('30 days predictions')\n",
    "#     plt.plot(results)\n",
    "#     #Uncomment this when real-time is fully implemented\n",
    "#     # plt.savefig('real1.png', dpi = 300, bbox_inches = 'tight')"
   ]
  },
  {
   "cell_type": "code",
   "execution_count": null,
   "metadata": {},
   "outputs": [],
   "source": [
    "# def plot_pred2(df_future):\n",
    "#     future = df_future.set_index('date')\n",
    "#     future.plot()"
   ]
  },
  {
   "cell_type": "code",
   "execution_count": null,
   "metadata": {},
   "outputs": [],
   "source": [
    "# def run_stock():\n",
    "#     forecast = gen_forecasts(stock)\n",
    "#     dfPast = gen_dfPast(df)\n",
    "#     results, dfFuture = gen_dfFuture(dfPast, forecast)\n",
    "#     plot_pred(results)\n",
    "#     plot_pred2(dfFuture)\n",
    "# run_stock()"
   ]
  }
 ],
 "metadata": {
  "kernelspec": {
   "display_name": "Python 3.10.5 64-bit",
   "language": "python",
   "name": "python3"
  },
  "language_info": {
   "codemirror_mode": {
    "name": "ipython",
    "version": 3
   },
   "file_extension": ".py",
   "mimetype": "text/x-python",
   "name": "python",
   "nbconvert_exporter": "python",
   "pygments_lexer": "ipython3",
   "version": "3.10.5"
  },
  "orig_nbformat": 4,
  "vscode": {
   "interpreter": {
    "hash": "aee8b7b246df8f9039afb4144a1f6fd8d2ca17a180786b69acc140d282b71a49"
   }
  }
 },
 "nbformat": 4,
 "nbformat_minor": 2
}
