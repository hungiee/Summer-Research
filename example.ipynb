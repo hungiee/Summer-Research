{
 "cells": [
  {
   "cell_type": "code",
   "execution_count": 1,
   "metadata": {},
   "outputs": [],
   "source": [
    "import re\n",
    "import numpy as np\n",
    "from matplotlib import pyplot as plt\n",
    "import pandas as pd\n",
    "from sklearn.preprocessing import MinMaxScaler\n",
    "import tensorflow as tf\n",
    "from tensorflow.keras import Sequential\n",
    "from keras.layers import LSTM\n",
    "from keras.layers import Dropout\n",
    "from keras.layers import Dense\n",
    "from sklearn.preprocessing import StandardScaler\n",
    "from sklearn.metrics import mean_absolute_error\n",
    "from sklearn.metrics import mean_squared_error"
   ]
  },
  {
   "cell_type": "code",
   "execution_count": 2,
   "metadata": {},
   "outputs": [
    {
     "data": {
      "text/html": [
       "<div>\n",
       "<style scoped>\n",
       "    .dataframe tbody tr th:only-of-type {\n",
       "        vertical-align: middle;\n",
       "    }\n",
       "\n",
       "    .dataframe tbody tr th {\n",
       "        vertical-align: top;\n",
       "    }\n",
       "\n",
       "    .dataframe thead th {\n",
       "        text-align: right;\n",
       "    }\n",
       "</style>\n",
       "<table border=\"1\" class=\"dataframe\">\n",
       "  <thead>\n",
       "    <tr style=\"text-align: right;\">\n",
       "      <th></th>\n",
       "      <th>volume</th>\n",
       "      <th>open</th>\n",
       "      <th>close</th>\n",
       "      <th>high</th>\n",
       "      <th>low</th>\n",
       "      <th>date</th>\n",
       "    </tr>\n",
       "  </thead>\n",
       "  <tbody>\n",
       "    <tr>\n",
       "      <th>1257</th>\n",
       "      <td>1663302.0</td>\n",
       "      <td>930.985</td>\n",
       "      <td>940.810</td>\n",
       "      <td>944.660</td>\n",
       "      <td>929.7900</td>\n",
       "      <td>2017-07-07 04:00:00</td>\n",
       "    </tr>\n",
       "    <tr>\n",
       "      <th>1256</th>\n",
       "      <td>1451460.0</td>\n",
       "      <td>941.950</td>\n",
       "      <td>951.000</td>\n",
       "      <td>953.130</td>\n",
       "      <td>941.9500</td>\n",
       "      <td>2017-07-10 04:00:00</td>\n",
       "    </tr>\n",
       "    <tr>\n",
       "      <th>1255</th>\n",
       "      <td>1461247.0</td>\n",
       "      <td>950.520</td>\n",
       "      <td>953.530</td>\n",
       "      <td>954.890</td>\n",
       "      <td>945.1200</td>\n",
       "      <td>2017-07-11 04:00:00</td>\n",
       "    </tr>\n",
       "    <tr>\n",
       "      <th>1254</th>\n",
       "      <td>1602115.0</td>\n",
       "      <td>960.860</td>\n",
       "      <td>967.660</td>\n",
       "      <td>969.630</td>\n",
       "      <td>957.0400</td>\n",
       "      <td>2017-07-12 04:00:00</td>\n",
       "    </tr>\n",
       "    <tr>\n",
       "      <th>1253</th>\n",
       "      <td>1524571.0</td>\n",
       "      <td>970.800</td>\n",
       "      <td>968.850</td>\n",
       "      <td>978.700</td>\n",
       "      <td>964.8000</td>\n",
       "      <td>2017-07-13 04:00:00</td>\n",
       "    </tr>\n",
       "    <tr>\n",
       "      <th>...</th>\n",
       "      <td>...</td>\n",
       "      <td>...</td>\n",
       "      <td>...</td>\n",
       "      <td>...</td>\n",
       "      <td>...</td>\n",
       "      <td>...</td>\n",
       "    </tr>\n",
       "    <tr>\n",
       "      <th>4</th>\n",
       "      <td>1235841.0</td>\n",
       "      <td>2231.040</td>\n",
       "      <td>2234.030</td>\n",
       "      <td>2263.205</td>\n",
       "      <td>2217.4501</td>\n",
       "      <td>2022-06-29 04:00:00</td>\n",
       "    </tr>\n",
       "    <tr>\n",
       "      <th>3</th>\n",
       "      <td>2158453.0</td>\n",
       "      <td>2200.000</td>\n",
       "      <td>2179.260</td>\n",
       "      <td>2217.760</td>\n",
       "      <td>2135.0000</td>\n",
       "      <td>2022-06-30 04:00:00</td>\n",
       "    </tr>\n",
       "    <tr>\n",
       "      <th>2</th>\n",
       "      <td>1773783.0</td>\n",
       "      <td>2158.660</td>\n",
       "      <td>2174.750</td>\n",
       "      <td>2185.000</td>\n",
       "      <td>2134.6100</td>\n",
       "      <td>2022-07-01 04:00:00</td>\n",
       "    </tr>\n",
       "    <tr>\n",
       "      <th>1</th>\n",
       "      <td>1970154.0</td>\n",
       "      <td>2142.010</td>\n",
       "      <td>2265.260</td>\n",
       "      <td>2267.535</td>\n",
       "      <td>2114.6300</td>\n",
       "      <td>2022-07-05 04:00:00</td>\n",
       "    </tr>\n",
       "    <tr>\n",
       "      <th>0</th>\n",
       "      <td>1249206.0</td>\n",
       "      <td>2266.040</td>\n",
       "      <td>2297.594</td>\n",
       "      <td>2298.000</td>\n",
       "      <td>2229.5200</td>\n",
       "      <td>2022-07-06 04:00:00</td>\n",
       "    </tr>\n",
       "  </tbody>\n",
       "</table>\n",
       "<p>1258 rows × 6 columns</p>\n",
       "</div>"
      ],
      "text/plain": [
       "         volume      open     close      high        low                 date\n",
       "1257  1663302.0   930.985   940.810   944.660   929.7900  2017-07-07 04:00:00\n",
       "1256  1451460.0   941.950   951.000   953.130   941.9500  2017-07-10 04:00:00\n",
       "1255  1461247.0   950.520   953.530   954.890   945.1200  2017-07-11 04:00:00\n",
       "1254  1602115.0   960.860   967.660   969.630   957.0400  2017-07-12 04:00:00\n",
       "1253  1524571.0   970.800   968.850   978.700   964.8000  2017-07-13 04:00:00\n",
       "...         ...       ...       ...       ...        ...                  ...\n",
       "4     1235841.0  2231.040  2234.030  2263.205  2217.4501  2022-06-29 04:00:00\n",
       "3     2158453.0  2200.000  2179.260  2217.760  2135.0000  2022-06-30 04:00:00\n",
       "2     1773783.0  2158.660  2174.750  2185.000  2134.6100  2022-07-01 04:00:00\n",
       "1     1970154.0  2142.010  2265.260  2267.535  2114.6300  2022-07-05 04:00:00\n",
       "0     1249206.0  2266.040  2297.594  2298.000  2229.5200  2022-07-06 04:00:00\n",
       "\n",
       "[1258 rows x 6 columns]"
      ]
     },
     "execution_count": 2,
     "metadata": {},
     "output_type": "execute_result"
    }
   ],
   "source": [
    "df = pd.read_csv(\"GOOGL_day.csv\")\n",
    "df = df.iloc[::-1]\n",
    "del df['Unnamed: 0']\n",
    "df"
   ]
  },
  {
   "cell_type": "code",
   "execution_count": 3,
   "metadata": {},
   "outputs": [
    {
     "data": {
      "text/plain": [
       "array([[ 940.81 ],\n",
       "       [ 951.   ],\n",
       "       [ 953.53 ],\n",
       "       ...,\n",
       "       [2174.75 ],\n",
       "       [2265.26 ],\n",
       "       [2297.594]], dtype=float32)"
      ]
     },
     "execution_count": 3,
     "metadata": {},
     "output_type": "execute_result"
    }
   ],
   "source": [
    "google_stock = df['close'].values.astype('float32')\n",
    "google_stock = google_stock.reshape(len(google_stock), 1)\n",
    "google_stock"
   ]
  },
  {
   "cell_type": "code",
   "execution_count": 4,
   "metadata": {},
   "outputs": [
    {
     "data": {
      "text/plain": [
       "array([[0.00960547],\n",
       "       [0.01451421],\n",
       "       [0.01573294],\n",
       "       ...,\n",
       "       [0.6040175 ],\n",
       "       [0.64761794],\n",
       "       [0.6631938 ]], dtype=float32)"
      ]
     },
     "execution_count": 4,
     "metadata": {},
     "output_type": "execute_result"
    }
   ],
   "source": [
    "from sklearn.preprocessing import MinMaxScaler\n",
    "scaler = MinMaxScaler(feature_range=(0, 1))\n",
    "google_stock_n = scaler.fit_transform(google_stock)\n",
    "google_stock_n"
   ]
  },
  {
   "cell_type": "code",
   "execution_count": 5,
   "metadata": {},
   "outputs": [],
   "source": [
    "def train_test_split(stock):\n",
    "  train_size = int(len(stock) * 0.80)\n",
    "  test_size = len(stock) - train_size\n",
    "  train, test = stock[0:train_size,:], stock[train_size:len(stock),:]\n",
    "  return train, test"
   ]
  },
  {
   "cell_type": "code",
   "execution_count": 6,
   "metadata": {},
   "outputs": [],
   "source": [
    "def create_dataset(dataset, look_back=1):\n",
    "\tdataX, dataY = [], []\n",
    "\tfor i in range(len(dataset)-look_back-1):\n",
    "\t\ta = dataset[i:(i+look_back), 0]\n",
    "\t\tdataX.append(a)\n",
    "\t\tdataY.append(dataset[i + look_back, 0])\n",
    "\treturn np.array(dataX), np.array(dataY)\n",
    "def create_trainTest():\n",
    "\ttrain, test = train_test_split(google_stock_n)\n",
    "\t# reshape into X=t and Y=t+1\n",
    "\tlook_back = 1\n",
    "\ttrainX, trainY = create_dataset(train, look_back)\n",
    "\ttestX, testY = create_dataset(test, look_back)\n",
    "\ttrainX = np.reshape(trainX, (trainX.shape[0], 1, trainX.shape[1]))\n",
    "\ttestX = np.reshape(testX, (testX.shape[0], 1, testX.shape[1]))\n",
    "\treturn trainX, testX, trainY, testY\n",
    "trainX, testX, trainY, testY = create_trainTest()\n"
   ]
  },
  {
   "cell_type": "code",
   "execution_count": 9,
   "metadata": {},
   "outputs": [
    {
     "name": "stdout",
     "output_type": "stream",
     "text": [
      "WARNING:tensorflow:Model was constructed with shape (None, 1, 32) for input KerasTensor(type_spec=TensorSpec(shape=(None, 1, 32), dtype=tf.float32, name='lstm_2_input'), name='lstm_2_input', description=\"created by layer 'lstm_2_input'\"), but it was called on an input with incompatible shape (None, 1, 1).\n"
     ]
    },
    {
     "ename": "ValueError",
     "evalue": "in user code:\n\n    File \"/Library/Frameworks/Python.framework/Versions/3.10/lib/python3.10/site-packages/keras/engine/training.py\", line 1051, in train_function  *\n        return step_function(self, iterator)\n    File \"/Library/Frameworks/Python.framework/Versions/3.10/lib/python3.10/site-packages/keras/engine/training.py\", line 1040, in step_function  **\n        outputs = model.distribute_strategy.run(run_step, args=(data,))\n    File \"/Library/Frameworks/Python.framework/Versions/3.10/lib/python3.10/site-packages/keras/engine/training.py\", line 1030, in run_step  **\n        outputs = model.train_step(data)\n    File \"/Library/Frameworks/Python.framework/Versions/3.10/lib/python3.10/site-packages/keras/engine/training.py\", line 889, in train_step\n        y_pred = self(x, training=True)\n    File \"/Library/Frameworks/Python.framework/Versions/3.10/lib/python3.10/site-packages/keras/utils/traceback_utils.py\", line 67, in error_handler\n        raise e.with_traceback(filtered_tb) from None\n    File \"/Library/Frameworks/Python.framework/Versions/3.10/lib/python3.10/site-packages/keras/engine/input_spec.py\", line 264, in assert_input_compatibility\n        raise ValueError(f'Input {input_index} of layer \"{layer_name}\" is '\n\n    ValueError: Exception encountered when calling layer \"sequential_2\" (type Sequential).\n    \n    Input 0 of layer \"lstm_2\" is incompatible with the layer: expected shape=(None, None, 32), found shape=(None, 1, 1)\n    \n    Call arguments received by layer \"sequential_2\" (type Sequential):\n      • inputs=tf.Tensor(shape=(None, 1, 1), dtype=float32)\n      • training=True\n      • mask=None\n",
     "output_type": "error",
     "traceback": [
      "\u001b[0;31m---------------------------------------------------------------------------\u001b[0m",
      "\u001b[0;31mValueError\u001b[0m                                Traceback (most recent call last)",
      "\u001b[1;32m/Users/khanhung2001/Documents/Union College/Summer Research/example.ipynb Cell 7'\u001b[0m in \u001b[0;36m<cell line: 9>\u001b[0;34m()\u001b[0m\n\u001b[1;32m      <a href='vscode-notebook-cell:/Users/khanhung2001/Documents/Union%20College/Summer%20Research/example.ipynb#ch0000006?line=6'>7</a>\u001b[0m model\u001b[39m.\u001b[39madd(Dense(units\u001b[39m=\u001b[39m\u001b[39m1\u001b[39m))\n\u001b[1;32m      <a href='vscode-notebook-cell:/Users/khanhung2001/Documents/Union%20College/Summer%20Research/example.ipynb#ch0000006?line=7'>8</a>\u001b[0m model\u001b[39m.\u001b[39mcompile(optimizer\u001b[39m=\u001b[39m\u001b[39m'\u001b[39m\u001b[39madam\u001b[39m\u001b[39m'\u001b[39m,loss\u001b[39m=\u001b[39m\u001b[39m'\u001b[39m\u001b[39mmean_squared_error\u001b[39m\u001b[39m'\u001b[39m)\n\u001b[0;32m----> <a href='vscode-notebook-cell:/Users/khanhung2001/Documents/Union%20College/Summer%20Research/example.ipynb#ch0000006?line=8'>9</a>\u001b[0m model\u001b[39m.\u001b[39;49mfit(trainX, trainY,epochs\u001b[39m=\u001b[39;49m\u001b[39m1\u001b[39;49m,batch_size\u001b[39m=\u001b[39;49m\u001b[39m32\u001b[39;49m)\n",
      "File \u001b[0;32m/Library/Frameworks/Python.framework/Versions/3.10/lib/python3.10/site-packages/keras/utils/traceback_utils.py:67\u001b[0m, in \u001b[0;36mfilter_traceback.<locals>.error_handler\u001b[0;34m(*args, **kwargs)\u001b[0m\n\u001b[1;32m     65\u001b[0m \u001b[39mexcept\u001b[39;00m \u001b[39mException\u001b[39;00m \u001b[39mas\u001b[39;00m e:  \u001b[39m# pylint: disable=broad-except\u001b[39;00m\n\u001b[1;32m     66\u001b[0m   filtered_tb \u001b[39m=\u001b[39m _process_traceback_frames(e\u001b[39m.\u001b[39m__traceback__)\n\u001b[0;32m---> 67\u001b[0m   \u001b[39mraise\u001b[39;00m e\u001b[39m.\u001b[39mwith_traceback(filtered_tb) \u001b[39mfrom\u001b[39;00m \u001b[39mNone\u001b[39m\n\u001b[1;32m     68\u001b[0m \u001b[39mfinally\u001b[39;00m:\n\u001b[1;32m     69\u001b[0m   \u001b[39mdel\u001b[39;00m filtered_tb\n",
      "File \u001b[0;32m/var/folders/x5/l8x4kr756xq3xt39yzgv1_b80000gn/T/__autograph_generated_filernjlzm6h.py:15\u001b[0m, in \u001b[0;36mouter_factory.<locals>.inner_factory.<locals>.tf__train_function\u001b[0;34m(iterator)\u001b[0m\n\u001b[1;32m     13\u001b[0m \u001b[39mtry\u001b[39;00m:\n\u001b[1;32m     14\u001b[0m     do_return \u001b[39m=\u001b[39m \u001b[39mTrue\u001b[39;00m\n\u001b[0;32m---> 15\u001b[0m     retval_ \u001b[39m=\u001b[39m ag__\u001b[39m.\u001b[39mconverted_call(ag__\u001b[39m.\u001b[39mld(step_function), (ag__\u001b[39m.\u001b[39mld(\u001b[39mself\u001b[39m), ag__\u001b[39m.\u001b[39mld(iterator)), \u001b[39mNone\u001b[39;00m, fscope)\n\u001b[1;32m     16\u001b[0m \u001b[39mexcept\u001b[39;00m:\n\u001b[1;32m     17\u001b[0m     do_return \u001b[39m=\u001b[39m \u001b[39mFalse\u001b[39;00m\n",
      "\u001b[0;31mValueError\u001b[0m: in user code:\n\n    File \"/Library/Frameworks/Python.framework/Versions/3.10/lib/python3.10/site-packages/keras/engine/training.py\", line 1051, in train_function  *\n        return step_function(self, iterator)\n    File \"/Library/Frameworks/Python.framework/Versions/3.10/lib/python3.10/site-packages/keras/engine/training.py\", line 1040, in step_function  **\n        outputs = model.distribute_strategy.run(run_step, args=(data,))\n    File \"/Library/Frameworks/Python.framework/Versions/3.10/lib/python3.10/site-packages/keras/engine/training.py\", line 1030, in run_step  **\n        outputs = model.train_step(data)\n    File \"/Library/Frameworks/Python.framework/Versions/3.10/lib/python3.10/site-packages/keras/engine/training.py\", line 889, in train_step\n        y_pred = self(x, training=True)\n    File \"/Library/Frameworks/Python.framework/Versions/3.10/lib/python3.10/site-packages/keras/utils/traceback_utils.py\", line 67, in error_handler\n        raise e.with_traceback(filtered_tb) from None\n    File \"/Library/Frameworks/Python.framework/Versions/3.10/lib/python3.10/site-packages/keras/engine/input_spec.py\", line 264, in assert_input_compatibility\n        raise ValueError(f'Input {input_index} of layer \"{layer_name}\" is '\n\n    ValueError: Exception encountered when calling layer \"sequential_2\" (type Sequential).\n    \n    Input 0 of layer \"lstm_2\" is incompatible with the layer: expected shape=(None, None, 32), found shape=(None, 1, 1)\n    \n    Call arguments received by layer \"sequential_2\" (type Sequential):\n      • inputs=tf.Tensor(shape=(None, 1, 1), dtype=float32)\n      • training=True\n      • mask=None\n"
     ]
    }
   ],
   "source": [
    "trainX, testX, trainY, testY = create_trainTest()\n",
    "model = Sequential()\n",
    "# model.add(tf.keras.Input(shape=(10,8)))\n",
    "# model.add(tf.keras.layers.Conv1D(32,3,input_shape = (10, 8), activation = 'relu'))\n",
    "# model.add(tf.keras.layers.MaxPool1D())\n",
    "model.add(LSTM(units=50,return_sequences=True,input_shape=(1, 32), activation = 'relu'))\n",
    "model.add(Dense(units=1))\n",
    "model.compile(optimizer='adam',loss='mean_squared_error')\n",
    "model.fit(trainX, trainY,epochs=1,batch_size=32)\n",
    "\n"
   ]
  }
 ],
 "metadata": {
  "kernelspec": {
   "display_name": "Python 3.10.5 64-bit",
   "language": "python",
   "name": "python3"
  },
  "language_info": {
   "codemirror_mode": {
    "name": "ipython",
    "version": 3
   },
   "file_extension": ".py",
   "mimetype": "text/x-python",
   "name": "python",
   "nbconvert_exporter": "python",
   "pygments_lexer": "ipython3",
   "version": "3.10.5"
  },
  "orig_nbformat": 4,
  "vscode": {
   "interpreter": {
    "hash": "aee8b7b246df8f9039afb4144a1f6fd8d2ca17a180786b69acc140d282b71a49"
   }
  }
 },
 "nbformat": 4,
 "nbformat_minor": 2
}
